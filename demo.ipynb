{
 "cells": [
  {
   "cell_type": "markdown",
   "id": "6056ff17",
   "metadata": {},
   "source": [
    "# Kodeveiledning\n",
    "\n",
    "Denne notebooken gir en veiledning i ulike funksjoner `poetry_analysis` tilbyr, og en fremgangsmåte for å bruke dem på større tekstmaterialer"
   ]
  },
  {
   "cell_type": "markdown",
   "id": "357250c9",
   "metadata": {},
   "source": [
    "## Tekstdata\n",
    "\n",
    "De fleste funksjonene, som henter informasjon direkte fra teksten, fungerer på strofe- eller linjenivå. Disse tar ofte et rent tekstobjekt, eller en liste med `string`-objekter som argument.\n",
    "\n",
    "Vi kan starte med den første strofen av diktet \"At jeg, at jeg har kjærligheden mødt.\" av Karen Nilsen, fra [*Kvinders sange* (1895)](https://www.nb.no/items/URN:NBN:no-nb_digibok_2012030706060) som eksempel, og deler teksten inn i linjer:  "
   ]
  },
  {
   "cell_type": "code",
   "execution_count": 19,
   "id": "e1b83baf",
   "metadata": {},
   "outputs": [],
   "source": [
    "text = \"\"\"At jeg, at jeg har kjærligheden mødt!\n",
    "Det er, som alt, som alt paany er født!\n",
    "Et under er der i mit liv nu skeet,\n",
    "Et under, kjærligheden, har jeg seet!\n",
    "\"\"\"\n",
    "\n",
    "textlines = text.splitlines()"
   ]
  },
  {
   "cell_type": "markdown",
   "id": "432dc987",
   "metadata": {},
   "source": [
    "## Lyriske trekk: gjentakelsesmønstre"
   ]
  },
  {
   "cell_type": "markdown",
   "id": "979b4e46",
   "metadata": {},
   "source": [
    "### Enderim\n",
    "\n",
    "Vi ser at enderimsmønsteret i teksten vår er `AABB`. \n",
    "\n",
    "> Legg merke til at vi må skru på et flagg (`orthographic=True`) for å markere at verselinjene er tekst, og ikke fonemisk lydskrift."
   ]
  },
  {
   "cell_type": "code",
   "execution_count": 20,
   "id": "6fdce78d",
   "metadata": {},
   "outputs": [
    {
     "data": {
      "text/plain": [
       "[Verse(id_=0, rhyme_score=0, rhyme_tag='a', text='At jeg, at jeg har kjærligheden mødt!', transcription='', tokens=['at', 'jeg', 'at', 'jeg', 'har', 'kjærligheden', 'mødt'], syllables=None, last_token='mødt', rhymes_with=None),\n",
       " Verse(id_=1, rhyme_score=1, rhyme_tag='a', text='Det er, som alt, som alt paany er født!', transcription='', tokens=['det', 'er', 'som', 'alt', 'som', 'alt', 'paany', 'er', 'født'], syllables=None, last_token='født', rhymes_with=0),\n",
       " Verse(id_=2, rhyme_score=0, rhyme_tag='b', text='Et under er der i mit liv nu skeet,', transcription='', tokens=['et', 'under', 'er', 'der', 'i', 'mit', 'liv', 'nu', 'skeet'], syllables=None, last_token='skeet', rhymes_with=None),\n",
       " Verse(id_=3, rhyme_score=1, rhyme_tag='b', text='Et under, kjærligheden, har jeg seet!', transcription='', tokens=['et', 'under', 'kjærligheden', 'har', 'jeg', 'seet'], syllables=None, last_token='seet', rhymes_with=2)]"
      ]
     },
     "execution_count": 20,
     "metadata": {},
     "output_type": "execute_result"
    }
   ],
   "source": [
    "from poetry_analysis.rhyme_detection import tag_rhyming_verses\n",
    "\n",
    "end_rhymes = tag_rhyming_verses(textlines, orthographic=True)\n",
    "\n",
    "end_rhymes"
   ]
  },
  {
   "cell_type": "markdown",
   "id": "8cb521b8",
   "metadata": {},
   "source": [
    "Dersom tekstdata ligger i en `.txt`-fil, kan vi hoppe over linjesegmenteringen, og bruke `tag_poem_file()`. Funksjonen både returnerer og skriver utdata til en `.json`-fil når vi skrur på  `write_to_file`-flagget.\n",
    "\n",
    "> **OBS:** Funksjonen antar at teksten i filen har to tomme linjer mellom hver strofe, dvs. tre  linjeskift etter siste vers i en strofe: `\"\\n\\n\\n\"`\n"
   ]
  },
  {
   "cell_type": "code",
   "execution_count": 21,
   "id": "9aa14b0c",
   "metadata": {},
   "outputs": [
    {
     "data": {
      "text/plain": [
       "{'stanza_id': 0,\n",
       " 'rhyme_scheme': 'aabb',\n",
       " 'verses': [{'rhyme_score': 0,\n",
       "   'rhyme_tag': 'a',\n",
       "   'text': 'At jeg, at jeg har kjærligheden mødt!',\n",
       "   'transcription': '',\n",
       "   'tokens': ['at', 'jeg', 'at', 'jeg', 'har', 'kjærligheden', 'mødt'],\n",
       "   'syllables': None,\n",
       "   'last_token': 'mødt',\n",
       "   'rhymes_with': None,\n",
       "   'verse_id': 0},\n",
       "  {'rhyme_score': 1,\n",
       "   'rhyme_tag': 'a',\n",
       "   'text': 'Det er, som alt, som alt paany er født!',\n",
       "   'transcription': '',\n",
       "   'tokens': ['det', 'er', 'som', 'alt', 'som', 'alt', 'paany', 'er', 'født'],\n",
       "   'syllables': None,\n",
       "   'last_token': 'født',\n",
       "   'rhymes_with': 0,\n",
       "   'verse_id': 1},\n",
       "  {'rhyme_score': 0,\n",
       "   'rhyme_tag': 'b',\n",
       "   'text': 'Et under er der i mit liv nu skeet,',\n",
       "   'transcription': '',\n",
       "   'tokens': ['et', 'under', 'er', 'der', 'i', 'mit', 'liv', 'nu', 'skeet'],\n",
       "   'syllables': None,\n",
       "   'last_token': 'skeet',\n",
       "   'rhymes_with': None,\n",
       "   'verse_id': 2},\n",
       "  {'rhyme_score': 1,\n",
       "   'rhyme_tag': 'b',\n",
       "   'text': 'Et under, kjærligheden, har jeg seet!',\n",
       "   'transcription': '',\n",
       "   'tokens': ['et', 'under', 'kjærligheden', 'har', 'jeg', 'seet'],\n",
       "   'syllables': None,\n",
       "   'last_token': 'seet',\n",
       "   'rhymes_with': 2,\n",
       "   'verse_id': 3}]}"
      ]
     },
     "execution_count": 21,
     "metadata": {},
     "output_type": "execute_result"
    }
   ],
   "source": [
    "from pathlib import Path\n",
    "from poetry_analysis.rhyme_detection import tag_poem_file\n",
    "\n",
    "poem_file = \"./example_poem.txt\"\n",
    "Path(poem_file).write_text(text)\n",
    "\n",
    "result = tag_poem_file(poem_file, write_to_file=True)\n",
    "\n",
    "result[0]"
   ]
  },
  {
   "cell_type": "markdown",
   "id": "c4500712",
   "metadata": {},
   "source": [
    "### Anaforer\n",
    "\n",
    "Anaforer er definert som fraser i starten av en linje som gjentar seg enten på samme linje eller i umiddelbart påfølgende linjer.\n",
    "\n",
    "Funksjonen `extract_anaphora` henter ut henholdsvis uni-, bi-, tri- og firegrammer fra påfølgende linjer"
   ]
  },
  {
   "cell_type": "code",
   "execution_count": 22,
   "id": "47acd0b3",
   "metadata": {},
   "outputs": [
    {
     "data": {
      "text/plain": [
       "{'1-grams': {'et': 2}, '2-grams': {'et under': 2}}"
      ]
     },
     "execution_count": 22,
     "metadata": {},
     "output_type": "execute_result"
    }
   ],
   "source": [
    "from poetry_analysis.anaphora import extract_anaphora\n",
    "\n",
    "extract_anaphora(text)"
   ]
  },
  {
   "cell_type": "markdown",
   "id": "748cdebb",
   "metadata": {},
   "source": [
    "Funksjonen `extract_line_anaphora` henter ut fraser som gjentar seg på samme linje"
   ]
  },
  {
   "cell_type": "code",
   "execution_count": 23,
   "id": "00520c31",
   "metadata": {},
   "outputs": [
    {
     "data": {
      "text/plain": [
       "[{'line_id': 0, 'phrase': 'at jeg', 'count': 2},\n",
       " {'line_id': 2, 'phrase': 'et', 'count': 2},\n",
       " {'line_id': 3, 'phrase': 'et', 'count': 2}]"
      ]
     },
     "execution_count": 23,
     "metadata": {},
     "output_type": "execute_result"
    }
   ],
   "source": [
    "from poetry_analysis.anaphora import extract_line_anaphora\n",
    "\n",
    "extract_line_anaphora(text)"
   ]
  },
  {
   "cell_type": "markdown",
   "id": "75492c16",
   "metadata": {},
   "source": [
    "### Alliterasjon \n",
    "\n",
    "Alliterasjon er umiddelbart påfølgende ord som starter på samme konsonant.\n",
    "\n",
    "Eksempeltekst er første side i langdiktet [\"Sirius som Séer\"](https://www.nb.no/items/URN:NBN:no-nb_digibok_2009010803031?page=3) av Gunhild Wexelsen (1891).\n"
   ]
  },
  {
   "cell_type": "code",
   "execution_count": 24,
   "id": "abf5b684",
   "metadata": {},
   "outputs": [
    {
     "name": "stdout",
     "output_type": "stream",
     "text": [
      "Fant 52 ord som starter på 's': \n",
      "[['stjerneklare', 'septembernat', 'sees', 'sirius', 'sydhimlens', 'smukkeste', 'stjerne', 'solens', 'skjønneste', 'søster', 'svæve', 'saa', 'stille', 'straale', 'saa', 'smukt', 'skue', 'sørgmodigt', 'slægternes', 'strid', 'sine', 'samlede', 'syner', 'sender', 'stjernen', 'sirius', 'sine', 'store', 'slægtninge', 'solen', 'skorpionen', 'stolte', 'svømmende', 'svane', 'sydkorset', 'saturn', 'som', 'straalende', 'stjerneskud', 'sirius', 'ser', 'saameget', 'ser', 'sagas', 'skyhøie', 'sæde', 'store', 'skagastølstind', 'som', 'sydfor', 'snehætten', 'staar']]\n"
     ]
    }
   ],
   "source": [
    "from poetry_analysis.alliteration import find_line_alliterations, count_alliterations, fetch_alliteration_symbol\n",
    "\n",
    "text = \"\"\"Stjerneklare Septembernat \n",
    "Sees Sirius, \n",
    "Sydhimlens smukkeste \n",
    "Stjerne, \n",
    "Solens skjønneste Søster, \n",
    "Svæve saa stille, \n",
    "Straale saa smukt, \n",
    "Skue sørgmodigt \n",
    "Slægternes Strid. \n",
    "Sine samlede Syner \n",
    "Sender Stjernen Sirius \n",
    "Sine store Slægtninge: \n",
    "Solen, Skorpionen, \n",
    "Stolte, svømmende Svane, \n",
    "Sydkorset, Saturn, \n",
    "Som straalende Stjerneskud. \n",
    "Sirius ser saameget!\n",
    "Ser Sagas skyhøie Sæde,\n",
    "‒ Store Skagastølstind ‒\n",
    "Som sydfor Snehætten staar.\"\"\"\n",
    "\n",
    "result = find_line_alliterations(text)\n",
    "alliteration_count = count_alliterations(result)\n",
    "symbol = fetch_alliteration_symbol(result)\n",
    "\n",
    "print(f\"Fant {alliteration_count} ord som starter på '{symbol}': \")\n",
    "print(result)"
   ]
  },
  {
   "cell_type": "markdown",
   "id": "9036ac45",
   "metadata": {},
   "source": [
    "### Lyrisk subjekt\n",
    "\n",
    "Det lyriske subjektet kan komme frem på mange måter i et dikt, noen ganger mer eksplisitt enn andre. \n",
    "\n",
    "Funksjonen `detect_lyrical_subject` bruker ordlister med personlige pronomen og markerer hvorvidt et eksplisitt lyrisk subjekt (\"jeg\") eller objekt (\"meg\") forekommer i teksten, implisitt (\"du\", \"vi\", \"dere\") eller indirekte via sted-/tidsdeiksis (\"her\", \"nå\", \"i morgen\")"
   ]
  },
  {
   "cell_type": "code",
   "execution_count": 25,
   "id": "8246cb4c",
   "metadata": {},
   "outputs": [
    {
     "data": {
      "text/plain": [
       "{'explicit_subject': True,\n",
       " 'explicit_object': True,\n",
       " 'implicit': True,\n",
       " 'deixis': False}"
      ]
     },
     "execution_count": 25,
     "metadata": {},
     "output_type": "execute_result"
    }
   ],
   "source": [
    "from poetry_analysis.lyrical_subject import detect_lyrical_subject\n",
    "\n",
    "detect_lyrical_subject(text)"
   ]
  },
  {
   "cell_type": "markdown",
   "id": "d2857fe4",
   "metadata": {},
   "source": [
    "## På tide å heve blikket! \n",
    "\n",
    "Vi kan jo lett se gjentakelsesmønstrene selv når vi ser på én tekst av gangen, men hva om du har tusenvis? \n",
    "\n",
    "Ta for eksempel korpuset [NORN Dikt](https://github.com/norn-uio/norn-poems) som har over 3000 korrekturleste dikt og kan lastes ned fra Github: \n",
    "- [norn_poems.jsonl](https://github.com/norn-uio/norn-poems/blob/main/norn_poems.jsonl) \n",
    "- [metadata.jsonl](https://github.com/norn-uio/norn-poems/blob/main/metadata.jsonl)"
   ]
  },
  {
   "cell_type": "code",
   "execution_count": 26,
   "id": "3ceafeb4",
   "metadata": {},
   "outputs": [],
   "source": [
    "import pandas as pd\n",
    "\n",
    "# Last inn i en pandas dataramme\n",
    "textdata = pd.read_json(\"norn_poems.jsonl\", lines=True)\n",
    "meta = pd.read_json(\"metadata.jsonl\", lines=True)\n",
    "\n",
    "df = meta.merge(textdata, on=\"poem_id\")"
   ]
  },
  {
   "cell_type": "markdown",
   "id": "68f0f1cb",
   "metadata": {},
   "source": [
    "Så kan vi bruke funksjonen `tag_text` på datarammen: "
   ]
  },
  {
   "cell_type": "code",
   "execution_count": 27,
   "id": "8d18900d",
   "metadata": {},
   "outputs": [],
   "source": [
    "from poetry_analysis.rhyme_detection import tag_text\n",
    "\n",
    "df[\"end_rhymes\"] = df.text.apply(lambda t: list(tag_text(t)))"
   ]
  },
  {
   "cell_type": "markdown",
   "id": "f1e48170",
   "metadata": {},
   "source": [
    "Resultatet er et nøstet hierarki av strofer og linjer og annotasjoner som hører til, så vi flater det ut med god gammeldags iterasjon over radene og `pandas.json_normalize`: "
   ]
  },
  {
   "cell_type": "code",
   "execution_count": 28,
   "id": "77fd38bb",
   "metadata": {},
   "outputs": [
    {
     "name": "stderr",
     "output_type": "stream",
     "text": [
      "/tmp/ipykernel_28938/602871409.py:15: FutureWarning: The behavior of DataFrame concatenation with empty or all-NA entries is deprecated. In a future version, this will no longer exclude empty or all-NA columns when determining the result dtypes. To retain the old behavior, exclude the relevant entries before the concat operation.\n",
      "  expanded = pd.concat(all_records, ignore_index=True)\n"
     ]
    }
   ],
   "source": [
    "all_records = []\n",
    "\n",
    "for _, row in df.iterrows():\n",
    "    # Normaliser annotasjonsstrukturen for hver rad\n",
    "    normalized = pd.json_normalize(\n",
    "        row[\"end_rhymes\"],\n",
    "        record_path=\"verses\",\n",
    "        meta=[\"stanza_id\", \"rhyme_scheme\"],\n",
    "    )\n",
    "    # Legg til dikt-ID så vi beholder koblingen til metadata\n",
    "    normalized[\"poem_id\"] = row[\"poem_id\"]\n",
    "    all_records.append(normalized)\n",
    "\n",
    "# Concatenate all records\n",
    "expanded = pd.concat(all_records, ignore_index=True)"
   ]
  },
  {
   "cell_type": "markdown",
   "id": "ac310697",
   "metadata": {},
   "source": [
    "## Litt statistikk: hvordan ser dataene ut? "
   ]
  },
  {
   "cell_type": "code",
   "execution_count": 12,
   "id": "ef99b3a0",
   "metadata": {},
   "outputs": [
    {
     "name": "stdout",
     "output_type": "stream",
     "text": [
      "Det er \n",
      "- 74 bøker og \n",
      "- 3117 dikt i dette korpusutvalget, \n",
      "- skrevet av 57 forfattere.\n",
      "Tilsammen består datamaterialet av\n",
      "- 18792 strofer, \n",
      "- 111700 verselinjer, \n",
      "- 624688 ord (tokens), og\n",
      "- 51034 unike ordformer (typer).\n"
     ]
    }
   ],
   "source": [
    "n_authors = df.author_name.nunique()\n",
    "n_books = df.txt_dirname.nunique()  # Unike IDer for publikasjoner\n",
    "n_poems = df.poem_id.nunique()\n",
    "\n",
    "# Antall strofer\n",
    "stanza_count = (\n",
    "    expanded.groupby([\"poem_id\", \"stanza_id\"])\n",
    "    .count()\n",
    "    .reset_index()\n",
    "    .groupby(\"poem_id\")\n",
    "    .agg(n_stanzas=(\"stanza_id\", \"count\"))\n",
    "    .reset_index()\n",
    ")\n",
    "n_stanzas = int(stanza_count.n_stanzas.sum())\n",
    "\n",
    "\n",
    "# Antall linjer\n",
    "n_lines = len(expanded)\n",
    "\n",
    "\n",
    "# Antall ord i materialet:\n",
    "n_words = expanded.tokens.apply(len).sum()\n",
    "n_types = expanded.tokens.explode().nunique()\n",
    "\n",
    "\n",
    "print(\"Det er \")\n",
    "print(f\"- {n_books} bøker og \")\n",
    "print(f\"- {n_poems} dikt i dette korpusutvalget, \")\n",
    "print(f\"- skrevet av {n_authors} forfattere.\")\n",
    "\n",
    "print(\"Tilsammen består datamaterialet av\")\n",
    "print(f\"- {n_stanzas} strofer, \")\n",
    "print(f\"- {n_lines} verselinjer, \")\n",
    "print(f\"- {n_words} ord (tokens), og\")\n",
    "print(f\"- {n_types} unike ordformer (typer).\")\n"
   ]
  },
  {
   "cell_type": "markdown",
   "id": "c0bdfa9a",
   "metadata": {},
   "source": [
    "# Topp 10 rimskjema"
   ]
  },
  {
   "cell_type": "code",
   "execution_count": 13,
   "id": "a37d9472",
   "metadata": {},
   "outputs": [
    {
     "data": {
      "text/html": [
       "<div>\n",
       "<style scoped>\n",
       "    .dataframe tbody tr th:only-of-type {\n",
       "        vertical-align: middle;\n",
       "    }\n",
       "\n",
       "    .dataframe tbody tr th {\n",
       "        vertical-align: top;\n",
       "    }\n",
       "\n",
       "    .dataframe thead th {\n",
       "        text-align: right;\n",
       "    }\n",
       "</style>\n",
       "<table border=\"1\" class=\"dataframe\">\n",
       "  <thead>\n",
       "    <tr style=\"text-align: right;\">\n",
       "      <th></th>\n",
       "      <th>stanza_rhyme</th>\n",
       "      <th>count</th>\n",
       "    </tr>\n",
       "  </thead>\n",
       "  <tbody>\n",
       "    <tr>\n",
       "      <th>0</th>\n",
       "      <td>abcb</td>\n",
       "      <td>2222</td>\n",
       "    </tr>\n",
       "    <tr>\n",
       "      <th>1</th>\n",
       "      <td>abab</td>\n",
       "      <td>2021</td>\n",
       "    </tr>\n",
       "    <tr>\n",
       "      <th>2</th>\n",
       "      <td>aabb</td>\n",
       "      <td>1256</td>\n",
       "    </tr>\n",
       "    <tr>\n",
       "      <th>3</th>\n",
       "      <td>abcd</td>\n",
       "      <td>1034</td>\n",
       "    </tr>\n",
       "    <tr>\n",
       "      <th>4</th>\n",
       "      <td>aa</td>\n",
       "      <td>509</td>\n",
       "    </tr>\n",
       "    <tr>\n",
       "      <th>5</th>\n",
       "      <td>abac</td>\n",
       "      <td>465</td>\n",
       "    </tr>\n",
       "    <tr>\n",
       "      <th>6</th>\n",
       "      <td>ababcdcd</td>\n",
       "      <td>465</td>\n",
       "    </tr>\n",
       "    <tr>\n",
       "      <th>7</th>\n",
       "      <td>ab</td>\n",
       "      <td>393</td>\n",
       "    </tr>\n",
       "    <tr>\n",
       "      <th>8</th>\n",
       "      <td>a</td>\n",
       "      <td>360</td>\n",
       "    </tr>\n",
       "    <tr>\n",
       "      <th>9</th>\n",
       "      <td>aabc</td>\n",
       "      <td>331</td>\n",
       "    </tr>\n",
       "  </tbody>\n",
       "</table>\n",
       "</div>"
      ],
      "text/plain": [
       "  stanza_rhyme  count\n",
       "0         abcb   2222\n",
       "1         abab   2021\n",
       "2         aabb   1256\n",
       "3         abcd   1034\n",
       "4           aa    509\n",
       "5         abac    465\n",
       "6     ababcdcd    465\n",
       "7           ab    393\n",
       "8            a    360\n",
       "9         aabc    331"
      ]
     },
     "execution_count": 13,
     "metadata": {},
     "output_type": "execute_result"
    },
    {
     "data": {
      "image/png": "[encoded data removed]",
      "text/plain": [
       "<Figure size 640x480 with 1 Axes>"
      ]
     },
     "metadata": {},
     "output_type": "display_data"
    }
   ],
   "source": [
    "rhyme_group = expanded.groupby([\"poem_id\", \"stanza_id\"]).agg(stanza_rhyme=(\"rhyme_tag\", \"sum\"))\n",
    "rhyme_count = rhyme_group.value_counts().to_frame().reset_index()\n",
    "common_rhyme_schemes = rhyme_count.head(10)\n",
    "common_rhyme_schemes.plot(x=\"stanza_rhyme\", y=\"count\", kind=\"barh\")\n",
    "common_rhyme_schemes"
   ]
  },
  {
   "cell_type": "markdown",
   "id": "675d452c",
   "metadata": {},
   "source": [
    "## De vanligste anaforene"
   ]
  },
  {
   "cell_type": "code",
   "execution_count": 14,
   "id": "ae148b9c",
   "metadata": {},
   "outputs": [],
   "source": [
    "from poetry_analysis.anaphora import extract_stanza_anaphora, is_successive\n",
    "\n",
    "\n",
    "def construct_anaphora_df(df: pd.DataFrame, anaphora_length: int = 1) -> pd.DataFrame:\n",
    "    \"\"\"Extract anaphora from a stanza in a dataframe\"\"\"\n",
    "    dfs = []\n",
    "\n",
    "    for (poem_id, stanza_id), df_ in df.groupby([\"poem_id\", \"stanza_id\"]):\n",
    "        text = df_.text.dropna().tolist()\n",
    "        try:\n",
    "            stanza_anaphora = extract_stanza_anaphora(text, n_words=anaphora_length)\n",
    "        except:\n",
    "            print(text)\n",
    "        for phrase, indeces in stanza_anaphora.items():\n",
    "            if len(indeces) <= 1:\n",
    "                continue\n",
    "            if all(is_successive(indeces)):\n",
    "                annotation = {\n",
    "                    \"poem_id\": poem_id,\n",
    "                    \"stanza_id\": int(stanza_id),\n",
    "                    \"line_id\": indeces,\n",
    "                    \"phrase\": phrase,\n",
    "                    \"count\": len(indeces),\n",
    "                    \"text\": [text[i] for i in indeces],\n",
    "                }\n",
    "\n",
    "                dfs.append(pd.DataFrame(annotation))\n",
    "    anaphora_df = pd.concat(dfs).reset_index(drop=True)\n",
    "    return anaphora_df\n",
    "\n",
    "\n",
    "anaphora_df = construct_anaphora_df(expanded, anaphora_length=3)\n"
   ]
  },
  {
   "cell_type": "code",
   "execution_count": 15,
   "id": "1e4a6650",
   "metadata": {},
   "outputs": [
    {
     "data": {
      "text/plain": [
       "phrase\n",
       "og det er         20\n",
       "golgathamanden    10\n",
       "kom og hjælp      10\n",
       "jeg ser paa        9\n",
       "syng meg um        8\n",
       "                  ..\n",
       "fagre ord som      2\n",
       "tid som har        2\n",
       "af alt som         2\n",
       "til dig som        2\n",
       "det var saa        2\n",
       "Name: count, Length: 340, dtype: int64"
      ]
     },
     "execution_count": 15,
     "metadata": {},
     "output_type": "execute_result"
    }
   ],
   "source": [
    "anaphora_df.phrase.value_counts()"
   ]
  }
 ],
 "metadata": {
  "kernelspec": {
   "display_name": "poetry-analysis",
   "language": "python",
   "name": "python3"
  },
  "language_info": {
   "codemirror_mode": {
    "name": "ipython",
    "version": 3
   },
   "file_extension": ".py",
   "mimetype": "text/x-python",
   "name": "python",
   "nbconvert_exporter": "python",
   "pygments_lexer": "ipython3",
   "version": "3.11.14"
  }
 },
 "nbformat": 4,
 "nbformat_minor": 5
}
